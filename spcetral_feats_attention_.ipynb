{
  "nbformat": 4,
  "nbformat_minor": 0,
  "metadata": {
    "colab": {
      "provenance": []
    },
    "kernelspec": {
      "name": "python3",
      "display_name": "Python 3"
    },
    "language_info": {
      "name": "python"
    }
  },
  "cells": [
    {
      "cell_type": "code",
      "execution_count": null,
      "metadata": {
        "colab": {
          "base_uri": "https://localhost:8080/"
        },
        "id": "3-r73z_cVs8g",
        "outputId": "d15fd95d-05a5-478c-d730-f3ded2b1ff0f"
      },
      "outputs": [
        {
          "output_type": "stream",
          "name": "stdout",
          "text": [
            "Fitting 5 folds for each of 80 candidates, totalling 400 fits\n",
            "\n",
            "Best Hyperparameters: {'C': 10, 'gamma': 'scale', 'kernel': 'rbf'}\n",
            "\n",
            "Test Accuracy: 0.7962\n",
            "\n",
            "Classification Report:\n",
            "              precision    recall  f1-score   support\n",
            "\n",
            "         0.0       0.80      0.88      0.84       154\n",
            "         1.0       0.79      0.68      0.73       106\n",
            "\n",
            "    accuracy                           0.80       260\n",
            "   macro avg       0.80      0.78      0.78       260\n",
            "weighted avg       0.80      0.80      0.79       260\n",
            "\n",
            "\n",
            "Confusion Matrix:\n",
            "[[135  19]\n",
            " [ 34  72]]\n"
          ]
        }
      ],
      "source": [
        "import json\n",
        "import numpy as np\n",
        "from sklearn.model_selection import train_test_split, GridSearchCV\n",
        "from sklearn.svm import SVC\n",
        "from sklearn.preprocessing import StandardScaler\n",
        "from sklearn.impute import SimpleImputer\n",
        "from sklearn.metrics import accuracy_score, classification_report, confusion_matrix\n",
        "\n",
        "# Load JSON data\n",
        "with open(\"/content/dataset.json\", \"r\") as file:\n",
        "    data = json.load(file)\n",
        "\n",
        "# Convert lists to NumPy arrays\n",
        "SC = np.array(data[\"Spectral_Centroid\"], dtype=np.float64)\n",
        "SE = np.array(data[\"Spectral_Entropy\"], dtype=np.float64)\n",
        "SF = np.array(data[\"Spectral_Flatness\"], dtype=np.float64)\n",
        "HNR = np.array(data[\"Harmonic_To_Noise_Ratio\"], dtype=np.float64)\n",
        "\n",
        "SC_sd = np.array(data[\"Spectral_Centroid_Standard_Deviation\"], dtype=np.float64)\n",
        "SE_sd = np.array(data[\"Spectral_Entropy_Standard_Deviation\"], dtype=np.float64)\n",
        "SF_sd = np.array(data[\"Spectral_Flatness_Standard_Deviation\"], dtype=np.float64)\n",
        "HNR_sd = np.array(data[\"HNR_Standard_Deviation\"], dtype=np.float64)\n",
        "\n",
        "bird = np.array(data[\"bird\"])  # Target variable\n",
        "\n",
        "# Normalization function\n",
        "def norm(arr, mi, mx):\n",
        "    normalized = (arr - mi)  / (mx - mi)\n",
        "    return np.clip(normalized, 0, 100)\n",
        "\n",
        "\n",
        "\n",
        "X = np.column_stack((\n",
        "   norm(SC, 50, 5000), norm(SE, 0, 5), norm(SF, 0, 1), norm(HNR, -15, 15),\n",
        "   norm(SC_sd, 0, 5000), norm(SE_sd, 0, 5), norm(SF_sd, 0, 0.5), norm(HNR_sd, 0, 15)\n",
        "))\n",
        "\n",
        "#X = np.column_stack((SC, SE, SF, HNR, SC_sd, SE_sd, SF_sd, HNR_sd))\n",
        "\n",
        "y = bird.astype(np.float32)\n",
        "\n",
        "X_train, X_test, y_train, y_test = train_test_split(X, y, test_size=0.5, random_state=42, stratify=y)\n",
        "\n",
        "# Split into training and test sets\n",
        "\n",
        "# Standardize features\n",
        "scaler = StandardScaler()\n",
        "X_train = scaler.fit_transform(X_train)\n",
        "X_test = scaler.transform(X_test)\n",
        "\n",
        "\n",
        "svm_clf = SVC()\n",
        "\n",
        "# Define hyperparameter grid\n",
        "param_grid = {\n",
        "    \"C\": [0.1, 1, 10, 100],  # Regularization parameter\n",
        "    \"gamma\": [\"scale\", \"auto\", 0.01, 0.1, 1],  # Kernel coefficient\n",
        "    \"kernel\": [\"rbf\", \"linear\", \"poly\", \"sigmoid\"]  # Different kernels\n",
        "}\n",
        "\n",
        "# Perform Grid Search with Cross-Validation\n",
        "grid_search = GridSearchCV(svm_clf, param_grid, cv=5, scoring=\"accuracy\", n_jobs=-1, verbose=1)\n",
        "grid_search.fit(X_train, y_train)\n",
        "\n",
        "# Get the best model\n",
        "best_svm = grid_search.best_estimator_\n",
        "\n",
        "# Predict on test set\n",
        "y_pred = best_svm.predict(X_test)\n",
        "\n",
        "# Evaluate performance\n",
        "accuracy = accuracy_score(y_test, y_pred)\n",
        "print(f\"\\nBest Hyperparameters: {grid_search.best_params_}\")\n",
        "print(f\"\\nTest Accuracy: {accuracy:.4f}\")\n",
        "print(\"\\nClassification Report:\")\n",
        "print(classification_report(y_test, y_pred))\n",
        "print(\"\\nConfusion Matrix:\")\n",
        "print(confusion_matrix(y_test, y_pred))\n"
      ]
    },
    {
      "cell_type": "code",
      "source": [
        "m=lambda a:[a.min(),a.max()]"
      ],
      "metadata": {
        "id": "wZDzGvv4WMuX"
      },
      "execution_count": null,
      "outputs": []
    },
    {
      "cell_type": "code",
      "source": [
        "import torch\n",
        "import torch.optim as optim\n",
        "from torch.utils.data import DataLoader, TensorDataset\n",
        "from sklearn.metrics import roc_curve, auc\n",
        "import matplotlib.pyplot as plt\n",
        "\n",
        "\n",
        "class SelfAttention(torch.nn.Module):\n",
        "    def __init__(self, n):\n",
        "        super().__init__()\n",
        "        self.attention_weights  = torch.nn.Parameter(torch.randn(n, n) * 0.1)\n",
        "        self.classifier_weights = torch.nn.Parameter(torch.randn(n) * 0.1)\n",
        "\n",
        "    def forward(self, x):\n",
        "        attention_scores = x @ self.attention_weights\n",
        "        return torch.softmax(attention_scores @ self.classifier_weights, dim=-1)\n",
        "\n",
        "class AttentionClassifier(torch.nn.Module):\n",
        "    def __init__(self):\n",
        "        super().__init__()\n",
        "        self.attention_mu    = SelfAttention(4)\n",
        "        self.attention_sigma = SelfAttention(4)\n",
        "        self.weight_factors  = torch.nn.Parameter(torch.randn(2))\n",
        "\n",
        "    def forward(self, x):\n",
        "        mu    = self.attention_mu(x[:, :4])\n",
        "        sigma = self.attention_sigma(x[:, 4:])\n",
        "\n",
        "        # weighted sum\n",
        "        out = mu * self.weight_factors[0] + sigma * self.weight_factors[1]\n",
        "        return torch.sigmoid(out).unsqueeze(1)\n",
        "\n",
        "\n",
        "\n",
        "\n",
        "\n",
        "# Device setup\n",
        "device = torch.device(\"cuda\" if torch.cuda.is_available() else \"cpu\")\n",
        "\n",
        "# Split data\n",
        "X_train, X_test, y_train, y_test = train_test_split(X, y, test_size=0.95, random_state=42, stratify=y)\n",
        "\n",
        "# Convert data to tensors\n",
        "X_train_tensor = torch.tensor(X_train, dtype=torch.float32).to(device)\n",
        "y_train_tensor = torch.tensor(y_train, dtype=torch.float32).unsqueeze(1).to(device)\n",
        "X_test_tensor  = torch.tensor(X_test, dtype=torch.float32).to(device)\n",
        "y_test_tensor  = torch.tensor(y_test, dtype=torch.float32).unsqueeze(1).to(device)\n",
        "\n",
        "batch_size     = 16\n",
        "train_dataset  = TensorDataset(X_train_tensor, y_train_tensor)\n",
        "train_loader   = DataLoader(train_dataset, batch_size=batch_size, shuffle=True)\n",
        "\n",
        "# Initialize Model, Loss, Optimizer#model     = AttentionClassifier().to(device)\n",
        "criterion = torch.nn.BCELoss()\n",
        "optimizer = torch.optim.Adam(model.parameters(), lr=1e-4)\n",
        "best_loss = float(\"inf\")\n",
        "\n",
        "epochs = 5500\n",
        "best_model_state = None\n",
        "best_loss = float('inf')  # Initialize with a high loss\n",
        "loss_history = []\n",
        "history_window = 30  # Check over a longer history window"
      ],
      "metadata": {
        "id": "4Bb_jrdjRNqz"
      },
      "execution_count": null,
      "outputs": []
    },
    {
      "cell_type": "code",
      "source": [
        "for epoch in range(epochs):\n",
        "    for X_batch, y_batch in train_loader:\n",
        "        optimizer.zero_grad()\n",
        "        output = model(X_batch)\n",
        "        loss = criterion(output, y_batch)\n",
        "        loss.backward()\n",
        "        optimizer.step()\n",
        "\n",
        "    # Track loss\n",
        "    loss_value = loss.item()\n",
        "    loss_history.append(loss_value)\n",
        "\n",
        "    # Save best model\n",
        "    if loss_value < best_loss:\n",
        "        best_loss = loss_value\n",
        "        best_model_state = model.state_dict()\n",
        "\n",
        "    # Check moving average trend over a longer history window\n",
        "    if len(loss_history) >= history_window:\n",
        "        recent_losses = loss_history[-history_window:]\n",
        "        if all(recent_losses[i] > recent_losses[i - 1] for i in range(1, history_window)):\n",
        "            print(f\"Stopping early at epoch {epoch+1} due to increasing loss trend.\")\n",
        "            break\n",
        "\n",
        "    # Print progress every 50 epochs\n",
        "    if epoch % 50 == 0:\n",
        "        print(f\"Epoch {epoch+1}/{epochs}, Loss: {loss_value:.4f}\")\n",
        "\n",
        "# Load the best model weights\n"
      ],
      "metadata": {
        "colab": {
          "base_uri": "https://localhost:8080/"
        },
        "id": "Lty-lhTYhTNA",
        "outputId": "e0b98676-694f-4826-88f9-2d05e7e65f82"
      },
      "execution_count": null,
      "outputs": [
        {
          "output_type": "stream",
          "name": "stdout",
          "text": [
            "Epoch 1/5500, Loss: 0.6930\n",
            "Epoch 51/5500, Loss: 0.6916\n",
            "Epoch 101/5500, Loss: 0.6847\n",
            "Epoch 151/5500, Loss: 0.6550\n",
            "Epoch 201/5500, Loss: 0.6809\n",
            "Epoch 251/5500, Loss: 0.6650\n",
            "Epoch 301/5500, Loss: 0.6144\n",
            "Epoch 351/5500, Loss: 0.6165\n",
            "Epoch 401/5500, Loss: 0.6101\n",
            "Epoch 451/5500, Loss: 0.6199\n",
            "Epoch 501/5500, Loss: 0.5857\n",
            "Epoch 551/5500, Loss: 0.5814\n",
            "Epoch 601/5500, Loss: 0.5856\n",
            "Epoch 651/5500, Loss: 0.5752\n",
            "Epoch 701/5500, Loss: 0.5670\n",
            "Epoch 751/5500, Loss: 0.5882\n",
            "Epoch 801/5500, Loss: 0.5711\n",
            "Epoch 851/5500, Loss: 0.6918\n",
            "Epoch 901/5500, Loss: 0.5856\n",
            "Epoch 951/5500, Loss: 0.5293\n",
            "Epoch 1001/5500, Loss: 0.5715\n",
            "Epoch 1051/5500, Loss: 0.5825\n",
            "Epoch 1101/5500, Loss: 0.5380\n",
            "Epoch 1151/5500, Loss: 0.6286\n",
            "Epoch 1201/5500, Loss: 0.6601\n",
            "Epoch 1251/5500, Loss: 0.5331\n",
            "Epoch 1301/5500, Loss: 0.5644\n",
            "Epoch 1351/5500, Loss: 0.5714\n",
            "Epoch 1401/5500, Loss: 0.7071\n",
            "Epoch 1451/5500, Loss: 0.5987\n",
            "Epoch 1501/5500, Loss: 0.5676\n",
            "Epoch 1551/5500, Loss: 0.4989\n",
            "Epoch 1601/5500, Loss: 0.5425\n",
            "Epoch 1651/5500, Loss: 0.4837\n",
            "Epoch 1701/5500, Loss: 0.4608\n",
            "Epoch 1751/5500, Loss: 0.5223\n",
            "Epoch 1801/5500, Loss: 0.4733\n",
            "Epoch 1851/5500, Loss: 0.4835\n",
            "Epoch 1901/5500, Loss: 0.5852\n",
            "Epoch 1951/5500, Loss: 0.5893\n",
            "Epoch 2001/5500, Loss: 0.5478\n",
            "Epoch 2051/5500, Loss: 0.5319\n",
            "Epoch 2101/5500, Loss: 0.4849\n",
            "Epoch 2151/5500, Loss: 0.4657\n",
            "Epoch 2201/5500, Loss: 0.4939\n",
            "Epoch 2251/5500, Loss: 0.4747\n",
            "Epoch 2301/5500, Loss: 0.4363\n",
            "Epoch 2351/5500, Loss: 0.5500\n",
            "Epoch 2401/5500, Loss: 0.5218\n",
            "Epoch 2451/5500, Loss: 0.5381\n",
            "Epoch 2501/5500, Loss: 0.5198\n",
            "Epoch 2551/5500, Loss: 0.6595\n",
            "Epoch 2601/5500, Loss: 0.5066\n",
            "Epoch 2651/5500, Loss: 0.5223\n",
            "Epoch 2701/5500, Loss: 0.6501\n",
            "Epoch 2751/5500, Loss: 0.5325\n",
            "Epoch 2801/5500, Loss: 0.5832\n",
            "Epoch 2851/5500, Loss: 0.6514\n",
            "Epoch 2901/5500, Loss: 0.4471\n",
            "Epoch 2951/5500, Loss: 1.1121\n",
            "Epoch 3001/5500, Loss: 0.4232\n",
            "Epoch 3051/5500, Loss: 0.5053\n",
            "Epoch 3101/5500, Loss: 0.4222\n",
            "Epoch 3151/5500, Loss: 0.4058\n",
            "Epoch 3201/5500, Loss: 0.4606\n",
            "Epoch 3251/5500, Loss: 0.4837\n",
            "Epoch 3301/5500, Loss: 0.5072\n",
            "Epoch 3351/5500, Loss: 0.5131\n",
            "Epoch 3401/5500, Loss: 0.4454\n",
            "Epoch 3451/5500, Loss: 0.3989\n",
            "Epoch 3501/5500, Loss: 0.4575\n",
            "Epoch 3551/5500, Loss: 0.5788\n",
            "Epoch 3601/5500, Loss: 0.4369\n",
            "Epoch 3651/5500, Loss: 0.4953\n",
            "Epoch 3701/5500, Loss: 0.5558\n",
            "Epoch 3751/5500, Loss: 0.4587\n",
            "Epoch 3801/5500, Loss: 0.5243\n",
            "Epoch 3851/5500, Loss: 0.4712\n",
            "Epoch 3901/5500, Loss: 0.5493\n",
            "Epoch 3951/5500, Loss: 0.5737\n",
            "Epoch 4001/5500, Loss: 0.4643\n",
            "Epoch 4051/5500, Loss: 0.3745\n",
            "Epoch 4101/5500, Loss: 0.3825\n",
            "Epoch 4151/5500, Loss: 0.4858\n",
            "Epoch 4201/5500, Loss: 0.6802\n",
            "Epoch 4251/5500, Loss: 0.4875\n",
            "Epoch 4301/5500, Loss: 0.3677\n",
            "Epoch 4351/5500, Loss: 0.4070\n",
            "Epoch 4401/5500, Loss: 0.5721\n",
            "Epoch 4451/5500, Loss: 0.4302\n",
            "Epoch 4501/5500, Loss: 0.7487\n",
            "Epoch 4551/5500, Loss: 0.4476\n",
            "Epoch 4601/5500, Loss: 0.3713\n",
            "Epoch 4651/5500, Loss: 0.4057\n",
            "Epoch 4701/5500, Loss: 0.3938\n",
            "Epoch 4751/5500, Loss: 0.4242\n",
            "Epoch 4801/5500, Loss: 0.3783\n",
            "Epoch 4851/5500, Loss: 0.3562\n",
            "Epoch 4901/5500, Loss: 0.3574\n",
            "Epoch 4951/5500, Loss: 0.5955\n",
            "Epoch 5001/5500, Loss: 0.4126\n",
            "Epoch 5051/5500, Loss: 0.4592\n",
            "Epoch 5101/5500, Loss: 0.4494\n",
            "Epoch 5151/5500, Loss: 0.4745\n",
            "Epoch 5201/5500, Loss: 0.5050\n",
            "Epoch 5251/5500, Loss: 0.4009\n",
            "Epoch 5301/5500, Loss: 0.5131\n",
            "Epoch 5351/5500, Loss: 0.4913\n",
            "Epoch 5401/5500, Loss: 0.4067\n",
            "Epoch 5451/5500, Loss: 0.6454\n"
          ]
        }
      ]
    },
    {
      "cell_type": "code",
      "source": [
        "if best_model_state is not None:\n",
        "    model.load_state_dict(best_model_state)\n",
        "    print(f\"Loaded best model weights with lowest recorded loss: {best_loss:.4f}\")"
      ],
      "metadata": {
        "colab": {
          "base_uri": "https://localhost:8080/"
        },
        "id": "x1OAYzACHPAa",
        "outputId": "d2c9565d-585a-4866-bc4c-baed5e2dd233"
      },
      "execution_count": null,
      "outputs": [
        {
          "output_type": "stream",
          "name": "stdout",
          "text": [
            "Loaded best model weights with lowest recorded loss: 0.2699\n"
          ]
        }
      ]
    },
    {
      "cell_type": "code",
      "source": [
        "model.eval()\n",
        "with torch.no_grad():\n",
        "    # Get probability predictions (move to CPU before numpy conversion)\n",
        "    y_pred_prob = model(X_test_tensor).cpu().numpy().flatten()  # Flatten to ensure 1D shape\n",
        "\n",
        "    # Compute ROC curve\n",
        "    y_test_np = y_test_tensor.cpu().numpy().flatten()  # Ensure 1D\n",
        "    fpr, tpr, thresholds = roc_curve(y_test_np, y_pred_prob)\n",
        "\n",
        "    # Compute the optimal threshold (Youden’s J statistic)\n",
        "    optimal_idx = np.argmax(tpr - fpr)\n",
        "    optimal_threshold = thresholds[optimal_idx]\n",
        "\n",
        "    # Apply the optimal threshold\n",
        "    y_pred_labels = (y_pred_prob > optimal_threshold).astype(float)\n",
        "\n",
        "    # Evaluate performance\n",
        "    print(f\"Optimal Threshold: {optimal_threshold:.4f}\")\n",
        "    print(\"\\nClassification Report:\")\n",
        "    print(classification_report(y_test_np, y_pred_labels))\n",
        "    print(\"\\nConfusion Matrix:\")\n",
        "    print(confusion_matrix(y_test_np, y_pred_labels))\n",
        "\n",
        "    plt.figure(figsize=(6, 6))\n",
        "    plt.plot(fpr, tpr, label=\"ROC Curve\", color=\"blue\")\n",
        "    plt.scatter(fpr[optimal_idx], tpr[optimal_idx], color=\"red\", label=f\"Optimal Threshold: {optimal_threshold:.2f}\")\n",
        "    plt.plot([0, 1], [0, 1], linestyle=\"--\", color=\"gray\")  # Diagonal line for random guessing\n",
        "    plt.xlabel(\"False Positive Rate (FPR)\")\n",
        "    plt.ylabel(\"True Positive Rate (TPR)\")\n",
        "    plt.title(\"Receiver Operating Characteristic (ROC) Curve\")\n",
        "    plt.legend()\n",
        "    plt.grid()\n",
        "    plt.show()"
      ],
      "metadata": {
        "colab": {
          "base_uri": "https://localhost:8080/",
          "height": 842
        },
        "id": "bNyyZeXqde-I",
        "outputId": "a3d93b2e-904e-44b6-ee0f-28c9b8a7d4e1"
      },
      "execution_count": null,
      "outputs": [
        {
          "output_type": "stream",
          "name": "stdout",
          "text": [
            "Optimal Threshold: 0.5002\n",
            "\n",
            "Classification Report:\n",
            "              precision    recall  f1-score   support\n",
            "\n",
            "         0.0       0.83      0.82      0.82       292\n",
            "         1.0       0.75      0.75      0.75       202\n",
            "\n",
            "    accuracy                           0.79       494\n",
            "   macro avg       0.79      0.79      0.79       494\n",
            "weighted avg       0.79      0.79      0.79       494\n",
            "\n",
            "\n",
            "Confusion Matrix:\n",
            "[[240  52]\n",
            " [ 50 152]]\n"
          ]
        },
        {
          "output_type": "display_data",
          "data": {
            "text/plain": [
              "<Figure size 600x600 with 1 Axes>"
            ],
            "image/png": "[encoded data removed]"
          },
          "metadata": {}
        }
      ]
    },
    {
      "cell_type": "code",
      "source": [
        "for name, param in model.named_parameters():\n",
        "    print(name, param.data.cpu().numpy())"
      ],
      "metadata": {
        "colab": {
          "base_uri": "https://localhost:8080/"
        },
        "id": "zh1IGUbaVpfw",
        "outputId": "a47797ad-8652-481e-99a8-b564fc8f56bd"
      },
      "execution_count": null,
      "outputs": [
        {
          "output_type": "stream",
          "name": "stdout",
          "text": [
            "weight_factors [-7.2962785  5.087236 ]\n",
            "attention_mu.attention_weights [[-1.236485    1.2841476   1.1996638   1.2770605 ]\n",
            " [ 0.25393116 -0.10121036 -0.08832756 -0.03427489]\n",
            " [ 0.02474513  0.19741581  0.17117405 -0.14574401]\n",
            " [-0.16988271  0.10872957  0.22121006  0.13842374]]\n",
            "attention_mu.classifier_weights [ 1.446442  -1.2041183 -1.0666766 -1.2597078]\n",
            "attention_sigma.attention_weights [[ 0.6357017  -0.7414155   0.53915507 -0.62237227]\n",
            " [ 0.10897908 -0.18616886 -0.09619793  0.02540057]\n",
            " [ 0.21302684 -0.25590244  0.334873   -0.21258917]\n",
            " [ 0.25944644 -0.2860238   0.14900288 -0.33277774]]\n",
            "attention_sigma.classifier_weights [ 0.39374897 -0.42585838  0.58339256 -0.55304706]\n"
          ]
        }
      ]
    },
    {
      "cell_type": "code",
      "source": [
        "\n",
        "\n",
        "def print_c_weights(model, filename=\"/content/weights.h\"):\n",
        "    with open(filename, \"w\") as f:\n",
        "        f.write('#include \"../../headers/ml/weights.h\"\\n\\n')\n",
        "\n",
        "        for name, param in model.named_parameters():\n",
        "            data = param.data.cpu().numpy()\n",
        "\n",
        "            # Check if the weights are 1D or 2D\n",
        "            if len(data.shape) == 2:\n",
        "                # Flatten the 2D weight matrix into a 1D array\n",
        "                f.write(f\"float {name.replace('.', '_')}[{data.size}] = {{\\n\")\n",
        "                f.write(\", \".join(f\"{val:.7f}\" for val in data.flatten()))\n",
        "                f.write(\"};\\n\\n\")\n",
        "            elif len(data.shape) == 1:\n",
        "                # Directly write the 1D array\n",
        "                f.write(f\"float {name.replace('.', '_')}[{data.shape[0]}] = {{\")\n",
        "                f.write(\", \".join(f\"{val:.7f}\" for val in data))\n",
        "                f.write(\"};\\n\\n\")\n",
        "\n",
        "        # Example threshold value (adjust accordingly)\n",
        "        f.write(f\"float PRED_TH={optimal_threshold:.4};\\n\")\n",
        "\n",
        "print_c_weights(model)"
      ],
      "metadata": {
        "id": "zsTztZ-CXp8-"
      },
      "execution_count": null,
      "outputs": []
    },
    {
      "cell_type": "markdown",
      "source": [],
      "metadata": {
        "id": "fY-QMiCAafuh"
      }
    },
    {
      "cell_type": "code",
      "source": [],
      "metadata": {
        "id": "Ossse6oXun8s"
      },
      "execution_count": null,
      "outputs": []
    }
  ]
}